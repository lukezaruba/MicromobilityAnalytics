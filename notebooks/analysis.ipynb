{
 "cells": [
  {
   "attachments": {},
   "cell_type": "markdown",
   "metadata": {},
   "source": [
    "# Micromobility in Minneapolis, MN: Spatiotemporal Prediction of Origins & Destinations\n",
    "\n",
    "## Notebook 2: Spatiotemporal Pattern Mining & Analysis\n",
    "\n",
    "### Luke Zaruba, University of Minnesota - MGIS Program\n",
    "\n",
    "##### March 20, 2023\n",
    "\n",
    "*Micromobility has been a recent interest of transportation planners and urban residents alike. One of the most popular implementations of micromobility in Minneapolis has been through motorized scooters from companies like Lime (Uber), Bird, or Lyft. There are comprehensive datasets available containing trip information for all scooter trips within the City, but using the data for understanding travel patterns and user behaviors has largely remained untouched. The data could have immense value to planners, residents, and other stakeholders, to inform future decision-making and more adequately prepare for how the urban landscape will change to accommodate greater volumes of scooters and other forms of micromobility. My solution is to use the powerful techniques of spatial data science to uncover these patterns and estimate when and where users are traveling **to** and **from**.*\n",
    "\n",
    "In this notebook, we will be demonstrating a few of the many methods that can be used in ArcGIS Pro to perform spatiotemporal analytics. To see the ETL and data wrangling process, cheack out the first notebook, called *etl.ipynb*."
   ]
  },
  {
   "cell_type": "code",
   "execution_count": 1,
   "metadata": {},
   "outputs": [],
   "source": [
    "# Ignore Warnings\n",
    "import warnings\n",
    "warnings.filterwarnings('ignore')"
   ]
  },
  {
   "cell_type": "code",
   "execution_count": 2,
   "metadata": {},
   "outputs": [],
   "source": [
    "# Import Libraries\n",
    "import arcpy\n",
    "import os"
   ]
  },
  {
   "cell_type": "code",
   "execution_count": 3,
   "metadata": {},
   "outputs": [],
   "source": [
    "# Set Paths\n",
    "origin_stc = r\"C:\\gitFiles\\MicromobilityAnalytics\\data\\outputs\\origins_stc.nc\"\n",
    "destination_stc = r\"C:\\gitFiles\\MicromobilityAnalytics\\data\\outputs\\destinations_stc.nc\"\n",
    "\n",
    "origin_daily_stc = r\"C:\\gitFiles\\MicromobilityAnalytics\\data\\outputs\\originsDaily_stc.nc\"\n",
    "destination_daily_stc = r\"C:\\gitFiles\\MicromobilityAnalytics\\data\\outputs\\destinationsDaily_stc.nc\"\n",
    "\n",
    "stcs = [origin_stc, destination_stc]\n",
    "daily_stcs = [origin_daily_stc, destination_daily_stc]\n",
    "\n",
    "working_gdb = r\"C:\\gitFiles\\MicromobilityAnalytics\\MicromobilityAPRX\\MicromobilityAPRX.gdb\"\n",
    "\n",
    "# Set as Working Envirnoment\n",
    "arcpy.env.workspace = working_gdb"
   ]
  },
  {
   "attachments": {},
   "cell_type": "markdown",
   "metadata": {},
   "source": [
    "## Time Series Clustering\n",
    "\n",
    "The first technique that will be explored is Time Series Clustering (TSC). For more information on how TSC works, check out the [documentation](https://pro.arcgis.com/en/pro-app/latest/tool-reference/space-time-pattern-mining/learnmoretimeseriesclustering.htm).\n",
    "\n",
    "In this example, we are running TSC for all three characteristics of interest that are available: Value, Profile (Correlation), and Profile (Fourier). This is done automatically in the function below, to make the code less repetitive."
   ]
  },
  {
   "cell_type": "code",
   "execution_count": 4,
   "metadata": {},
   "outputs": [],
   "source": [
    "def automateTimeSeriesClustering(stc_list: list) -> None:\n",
    "    \"\"\"Automates the process of running TSC with different methods on a list of STCs.\n",
    "\n",
    "    Args:\n",
    "        stc_list (list): Input list of STC paths.\n",
    "    \"\"\"\n",
    "    # Methods List\n",
    "    methods = [\"VALUE\", \"PROFILE\", \"PROFILE_FOURIER\"]\n",
    "    \n",
    "    # Loop through Input STCs\n",
    "    for stc in stc_list:\n",
    "        # Get STC Name\n",
    "        _, name = os.path.split(stc)\n",
    "        od_name = name.split(\"_\")[0]\n",
    "        \n",
    "        # Loop through Methods and Run Clustering\n",
    "        for method in methods:\n",
    "            out = arcpy.stpm.TimeSeriesClustering(\n",
    "                stc,\n",
    "                \"COUNT\",\n",
    "                f\"{od_name}_{method}_tsc\",\n",
    "                method,\n",
    "                output_table_for_charts=f\"{od_name}_{method}_tscTable\",\n",
    "                enable_time_series_popups=\"CREATE_POPUP\"\n",
    "            )"
   ]
  },
  {
   "cell_type": "code",
   "execution_count": 5,
   "metadata": {},
   "outputs": [],
   "source": [
    "# Run Time Series Clustering on Half-Hour STCs\n",
    "automateTimeSeriesClustering(stcs)"
   ]
  },
  {
   "cell_type": "code",
   "execution_count": 6,
   "metadata": {},
   "outputs": [],
   "source": [
    "# Run Time Series Clustering on Daily STCs\n",
    "automateTimeSeriesClustering(daily_stcs)"
   ]
  },
  {
   "attachments": {},
   "cell_type": "markdown",
   "metadata": {},
   "source": [
    "## Local Outlier Analysis\n",
    "\n",
    "The second technique that will be used is Local Outlier Analysis (LOA). For more information on how LOA works, check out the [documentation](https://pro.arcgis.com/en/pro-app/latest/tool-reference/space-time-pattern-mining/learnmorelocaloutlier.htm).\n",
    "\n",
    "In this example, only the daily STCs were used, and neighbors were calculated by using the K Nearest Neighbors algorithm, with 6 neighbors. Becuase the input dataset is hexagonal, this means that the 6 nearest neighbors should be the other features that border a given feature."
   ]
  },
  {
   "cell_type": "code",
   "execution_count": 7,
   "metadata": {},
   "outputs": [],
   "source": [
    "def automateLocalOutlierAnalysis(stc_list: list) -> None:\n",
    "    \"\"\"Automates the process of running LOA on a list of STCs.\n",
    "\n",
    "    Args:\n",
    "        stc_list (list): Input list of STC paths.\n",
    "    \"\"\"\n",
    "    # Loop through STCs\n",
    "    for stc in stc_list:\n",
    "        # Get STC Name\n",
    "        _, name = os.path.split(stc)\n",
    "        od_name = name.split(\"_\")[0]\n",
    "        \n",
    "        # Run LOA\n",
    "        arcpy.stpm.LocalOutlierAnalysis(\n",
    "            stc,\n",
    "            \"COUNT\",\n",
    "            os.path.join(working_gdb, f\"{od_name}_LOA\"),\n",
    "            neighborhood_time_step = 1,\n",
    "            number_of_permutations = 99,\n",
    "            conceptualization_of_spatial_relationships = \"K_NEAREST_NEIGHBORS\",\n",
    "            number_of_neighbors = 6,\n",
    "            define_global_window = \"ENTIRE_CUBE\"\n",
    "        )"
   ]
  },
  {
   "cell_type": "code",
   "execution_count": 8,
   "metadata": {},
   "outputs": [],
   "source": [
    "# Run Local Outlier Analysis on Daily STCs\n",
    "automateLocalOutlierAnalysis(daily_stcs)"
   ]
  },
  {
   "attachments": {},
   "cell_type": "markdown",
   "metadata": {},
   "source": [
    "## Emerging Hot Spot Analysis\n",
    "\n",
    "The final technique that will be used is Emerging Hot Spot Analysis (EHSA). For more information on how EHSA works, check out the [documentation](https://pro.arcgis.com/en/pro-app/latest/tool-reference/space-time-pattern-mining/learnmoreemerging.htm).\n",
    "\n",
    "Like the LOA example, neighbors weere determined by using the K Nearest Neighbors algorithm to find the 6 nearest neighbors."
   ]
  },
  {
   "cell_type": "code",
   "execution_count": 9,
   "metadata": {},
   "outputs": [],
   "source": [
    "def automateEmergingHotSpotAnalysis(stc_list: list) -> None:\n",
    "    \"\"\"Automates the process of running EHSA on a list of STCs.\n",
    "\n",
    "    Args:\n",
    "        stc_list (list): Input list of STC paths.\n",
    "    \"\"\"\n",
    "    # Loop through STCs\n",
    "    for stc in stc_list:\n",
    "        # Get STC Name\n",
    "        _, name = os.path.split(stc)\n",
    "        od_name = name.split(\"_\")[0]\n",
    "        \n",
    "        # Run EHSA\n",
    "        arcpy.stpm.EmergingHotSpotAnalysis(\n",
    "            stc,\n",
    "            \"COUNT\",\n",
    "            os.path.join(working_gdb, f\"{od_name}_EHSA\"),\n",
    "            neighborhood_time_step = 1,\n",
    "            conceptualization_of_spatial_relationships = \"K_NEAREST_NEIGHBORS\",\n",
    "            number_of_neighbors = 6,\n",
    "            define_global_window = \"ENTIRE_CUBE\"\n",
    "        )"
   ]
  },
  {
   "cell_type": "code",
   "execution_count": 10,
   "metadata": {},
   "outputs": [],
   "source": [
    "# Run Emerging Hot Spot Analysis on Half-Hour STCs\n",
    "automateEmergingHotSpotAnalysis(stcs)"
   ]
  },
  {
   "cell_type": "code",
   "execution_count": 11,
   "metadata": {},
   "outputs": [],
   "source": [
    "# Run Emerging Hot Spot Analysis on Daily STCs\n",
    "automateEmergingHotSpotAnalysis(daily_stcs)"
   ]
  },
  {
   "attachments": {},
   "cell_type": "markdown",
   "metadata": {},
   "source": [
    "## The End!\n",
    "\n",
    "This notebook provides a brief overview of only a few of the many techniques and methods that could be employed for spatiotemporal analysis or prediction tasks.\n",
    "\n",
    "For more information on spatiotemporal tools that could be useful, check out the list below of several potential options.\n",
    "- [Space Time Pattern Analysis](https://pro.arcgis.com/en/pro-app/latest/tool-reference/space-time-pattern-mining/an-overview-of-the-space-time-pattern-analysis-toolset.htm)\n",
    "- [Time Series Forecasting](https://pro.arcgis.com/en/pro-app/latest/tool-reference/space-time-pattern-mining/an-overview-of-the-time-series-forecasting-toolset.htm)\n",
    "- [Time Series AI](https://pro.arcgis.com/en/pro-app/latest/tool-reference/geoai/an-overview-of-the-time-series-ai-toolset.htm)\n",
    "- [Temporal Joins](https://pro.arcgis.com/en/pro-app/latest/tool-reference/geoanalytics-desktop/join-features.htm)\n",
    "- [Movement Analysis](https://pro.arcgis.com/en/pro-app/latest/tool-reference/intelligence/an-overview-of-the-movement-analysis-toolset.htm)\n",
    "- [Multidimensional Data](https://pro.arcgis.com/en/pro-app/latest/tool-reference/multidimension/an-overview-of-the-multidimension-toolbox.htm)\n",
    "- [Multidimensional Analysis](https://pro.arcgis.com/en/pro-app/latest/tool-reference/spatial-analyst/an-overview-of-the-multidimensional-analysis-tools.htm)\n",
    "\n",
    "For more information on previous project I worked on, which used spatiotemporal data mining to examine the same data, check out this GitHub [repository](https://github.com/lukezaruba/MicromobilitySTDM)."
   ]
  }
 ],
 "metadata": {
  "kernelspec": {
   "display_name": "ArcGISPro",
   "language": "Python",
   "name": "python3"
  },
  "language_info": {
   "file_extension": ".py",
   "name": "python",
   "version": "3.9.16"
  },
  "vscode": {
   "interpreter": {
    "hash": "def8e632b3bf617b9a70480f352dd1a48ccae5bc3982940c0141c66988093451"
   }
  }
 },
 "nbformat": 4,
 "nbformat_minor": 2
}
