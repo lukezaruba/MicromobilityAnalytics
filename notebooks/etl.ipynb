{
 "cells": [
  {
   "cell_type": "markdown",
   "metadata": {},
   "source": [
    "# Micromobility in Minneapolis, MN: Spatiotemporal Prediction of Origins & Destinations\n",
    "\n",
    "## Notebook 1: ETL and Data Wrangling\n",
    "\n",
    "### Luke Zaruba, University of Minnesota - MGIS Program\n",
    "\n",
    "##### March 31, 2023\n",
    "\n",
    "*Micromobility has been a recent interest of transportation planners and urban residents alike. The most popular implementations of micromobility in Minneapolis has been through motorized scooters from companies like Lime (Uber), Bird, or Lyft. There are comprehensive datasets available containing trip information for all scooters within the City, but using the data for understanding travel patterns and user behaviors has largely remained untouched. The data could have immense value to planners, residents, and other stakeholders, to inform future decision-making and more adequately prepare for how the urban landscape will change to accommodate greater volumes of scooters and other forms of micromobility. My solution is to use the powerful techniques of spatial data science to uncover these patterns and estimate when and where users are traveling **to** and **from**.*"
   ]
  },
  {
   "cell_type": "code",
   "execution_count": 1,
   "metadata": {},
   "outputs": [],
   "source": [
    "# Ignore Warnings\n",
    "import warnings\n",
    "warnings.filterwarnings('ignore')"
   ]
  },
  {
   "cell_type": "code",
   "execution_count": 2,
   "metadata": {},
   "outputs": [],
   "source": [
    "# Import Libraries\n",
    "import arcpy\n",
    "import os"
   ]
  },
  {
   "cell_type": "markdown",
   "metadata": {},
   "source": [
    "## Loading Data to File Geodatabase"
   ]
  },
  {
   "cell_type": "code",
   "execution_count": 3,
   "metadata": {},
   "outputs": [],
   "source": [
    "# Set Paths\n",
    "working_gdb = r\"C:\\gitFiles\\MicromobilityForecasting\\MicromobilityForecastingAPRX\\MicromobilityForecastingAPRX.gdb\"\n",
    "data_path = r\"C:\\gitFiles\\MicromobilityForecasting\\data\\raw\"\n",
    "\n",
    "# Set as Working Envirnoment\n",
    "arcpy.env.workspace = working_gdb\n",
    "\n",
    "# Copy Streets to GDB\n",
    "arcpy.conversion.ExportFeatures(\n",
    "    in_features = os.path.join(data_path, r\"PW_Street_Centerline\\PW_Street_Centerline.shp\"),\n",
    "    out_features = os.path.join(working_gdb, \"streets_line\")\n",
    ")\n",
    "\n",
    "# Copy Trips to GDB\n",
    "arcpy.management.CopyRows(\n",
    "    in_rows = os.path.join(data_path, \"Motorized_Foot_Scooter_Trips_2021.csv\"),\n",
    "    out_table = os.path.join(working_gdb, \"trips_table\")\n",
    ")"
   ]
  },
  {
   "cell_type": "markdown",
   "metadata": {},
   "source": [
    "## Cleaning the Street Centerlines"
   ]
  },
  {
   "cell_type": "code",
   "execution_count": 4,
   "metadata": {},
   "outputs": [],
   "source": [
    "# Create List of Fields\n",
    "street_fields = [i.name for i in arcpy.ListFields(\"streets_line\")]\n",
    "\n",
    "# Create List of Fields to Drop\n",
    "drop_street_fields = [i for i in street_fields if i not in (\"GBSID\", \"OBJECTID_1\", \"Shape_Length\", \"Shape\")]\n",
    "\n",
    "# Drop Unnecessary Fields\n",
    "arcpy.management.DeleteField(\n",
    "    in_table = os.path.join(working_gdb, \"streets_line\"),\n",
    "    drop_field = drop_street_fields,\n",
    "    method = \"DELETE_FIELDS\"\n",
    ")"
   ]
  },
  {
   "cell_type": "code",
   "execution_count": 5,
   "metadata": {},
   "outputs": [],
   "source": [
    "# Calculate Centroid Coordinates\n",
    "arcpy.management.CalculateGeometryAttributes(\n",
    "    in_features = os.path.join(working_gdb, \"streets_line\"),\n",
    "    geometry_property = \"X CENTROID_X;Y CENTROID_Y\",\n",
    "    coordinate_system = arcpy.SpatialReference(4236),\n",
    "    coordinate_format = \"DD\"\n",
    ")"
   ]
  },
  {
   "cell_type": "code",
   "execution_count": 6,
   "metadata": {},
   "outputs": [],
   "source": [
    "# Create Centroid Point Feature Class\n",
    "arcpy.management.XYTableToPoint(\n",
    "    in_table = os.path.join(working_gdb, \"streets_line\"),\n",
    "    out_feature_class = os.path.join(working_gdb, \"street_centroids\"),\n",
    "    x_field = \"X\",\n",
    "    y_field = \"Y\",\n",
    "    coordinate_system = arcpy.SpatialReference(4326)\n",
    ")"
   ]
  },
  {
   "cell_type": "markdown",
   "metadata": {},
   "source": [
    "## Cleaning the Scooter Trips"
   ]
  },
  {
   "cell_type": "code",
   "execution_count": 7,
   "metadata": {},
   "outputs": [],
   "source": [
    "# Alter Start Time Field\n",
    "arcpy.management.ConvertTimeField(\n",
    "    in_table = \"trips_table\",\n",
    "    input_time_field = \"StartTime\",\n",
    "    input_time_format = \"yyyy/MM/dd HH:mm:ss+00\",\n",
    "    output_time_field = \"StartTime_Converted\",\n",
    "    output_time_type = \"DATE\"\n",
    ")"
   ]
  },
  {
   "cell_type": "code",
   "execution_count": 8,
   "metadata": {},
   "outputs": [],
   "source": [
    "# Alter End Time Field\n",
    "arcpy.management.ConvertTimeField(\n",
    "    in_table = \"trips_table\",\n",
    "    input_time_field = \"EndTime\",\n",
    "    input_time_format = \"yyyy/MM/dd HH:mm:ss+00\",\n",
    "    output_time_field = \"EndTime_Converted\",\n",
    "    output_time_type = \"DATE\"\n",
    ")"
   ]
  },
  {
   "cell_type": "code",
   "execution_count": 9,
   "metadata": {},
   "outputs": [],
   "source": [
    "# Restrict to Trips that Start & End on Streets\n",
    "arcpy.conversion.ExportTable(\n",
    "    in_table = os.path.join(working_gdb, \"trips_table\"),\n",
    "    out_table = os.path.join(working_gdb, \"trips_table_cleaned\"),\n",
    "    where_clause = \"StartCenterlineType = 'street' AND EndCenterlineType = 'street'\"\n",
    ")"
   ]
  },
  {
   "cell_type": "markdown",
   "metadata": {},
   "source": [
    "## Joining Scooter Trips to Streets"
   ]
  },
  {
   "cell_type": "code",
   "execution_count": 10,
   "metadata": {},
   "outputs": [],
   "source": [
    "# Join by Origin ID\n",
    "arcpy.gapro.JoinFeatures(\n",
    "    target_layer = os.path.join(working_gdb, \"trips_table\"),\n",
    "    join_layer = os.path.join(working_gdb, \"street_centroids\"),\n",
    "    output = os.path.join(working_gdb, \"origins_table\"),\n",
    "    join_operation = \"JOIN_ONE_TO_MANY\",\n",
    "    attribute_relationship=\"StartCenterlineID GBSID\"\n",
    ")"
   ]
  },
  {
   "cell_type": "code",
   "execution_count": 11,
   "metadata": {},
   "outputs": [],
   "source": [
    "# Join by Destination ID\n",
    "arcpy.gapro.JoinFeatures(\n",
    "    target_layer = os.path.join(working_gdb, \"trips_table\"),\n",
    "    join_layer = os.path.join(working_gdb, \"street_centroids\"),\n",
    "    output = os.path.join(working_gdb, \"destinations_table\"),\n",
    "    join_operation = \"JOIN_ONE_TO_MANY\",\n",
    "    attribute_relationship=\"EndCenterlineID GBSID\"\n",
    ")"
   ]
  },
  {
   "cell_type": "markdown",
   "metadata": {},
   "source": [
    "## Convert Scooter Trips to Feature Classes"
   ]
  },
  {
   "cell_type": "code",
   "execution_count": 12,
   "metadata": {},
   "outputs": [],
   "source": [
    "# Convert Origins to Feature Class\n",
    "arcpy.management.XYTableToPoint(\n",
    "    in_table = os.path.join(working_gdb, \"origins_table\"),\n",
    "    out_feature_class = os.path.join(working_gdb, \"origins_points\"),\n",
    "    x_field = \"X\",\n",
    "    y_field = \"Y\",\n",
    "    coordinate_system = arcpy.SpatialReference(4326)\n",
    ")\n",
    "\n",
    "# Convert Destinations to Feature Class\n",
    "arcpy.management.XYTableToPoint(\n",
    "    in_table = os.path.join(working_gdb, \"destinations_table\"),\n",
    "    out_feature_class = os.path.join(working_gdb, \"destinations_points\"),\n",
    "    x_field = \"X\",\n",
    "    y_field = \"Y\",\n",
    "    coordinate_system = arcpy.SpatialReference(4326)\n",
    ")"
   ]
  },
  {
   "cell_type": "markdown",
   "metadata": {},
   "source": [
    "## Creating Space Time Cubes"
   ]
  },
  {
   "cell_type": "code",
   "execution_count": 13,
   "metadata": {},
   "outputs": [],
   "source": [
    "# Project to PCS for STC to Work Properly\n",
    "arcpy.management.Project(\n",
    "    in_dataset=\"origins_points\",\n",
    "    out_dataset= os.path.join(working_gdb, \"origins_points_utm15\"),\n",
    "    out_coor_system= arcpy.SpatialReference(26915),\n",
    "    transform_method=\"WGS_1984_(ITRF00)_To_NAD_1983\",\n",
    "    in_coor_system = arcpy.SpatialReference(4326)\n",
    ")\n",
    "\n",
    "arcpy.management.Project(\n",
    "    in_dataset=\"destinations_points\",\n",
    "    out_dataset= os.path.join(working_gdb, \"destinations_points_utm15\"),\n",
    "    out_coor_system= arcpy.SpatialReference(26915),\n",
    "    transform_method=\"WGS_1984_(ITRF00)_To_NAD_1983\",\n",
    "    in_coor_system = arcpy.SpatialReference(4326)\n",
    ")"
   ]
  },
  {
   "cell_type": "code",
   "execution_count": 14,
   "metadata": {},
   "outputs": [],
   "source": [
    "# Create Origin STC\n",
    "arcpy.stpm.CreateSpaceTimeCube(\n",
    "    in_features = \"origins_points_utm15\",\n",
    "    output_cube = r\"C:\\gitFiles\\MicromobilityForecasting\\data\\outputs\\origins_stc.nc\",\n",
    "    time_field = \"StartTime_Converted\",\n",
    "    time_step_interval = \"30 Minutes\",\n",
    "    time_step_alignment = \"END_TIME\",\n",
    "    aggregation_shape_type=\"FISHNET_GRID\"\n",
    ")"
   ]
  },
  {
   "cell_type": "code",
   "execution_count": 15,
   "metadata": {},
   "outputs": [],
   "source": [
    "# Create Destination STC\n",
    "arcpy.stpm.CreateSpaceTimeCube(\n",
    "    in_features = \"destinations_points_utm15\",\n",
    "    output_cube = r\"C:\\gitFiles\\MicromobilityForecasting\\data\\outputs\\destinations_stc.nc\",\n",
    "    time_field = \"EndTime_Converted\",\n",
    "    time_step_interval = \"30 Minutes\",\n",
    "    time_step_alignment = \"END_TIME\",\n",
    "    aggregation_shape_type=\"FISHNET_GRID\"\n",
    ")"
   ]
  }
 ],
 "metadata": {
  "kernelspec": {
   "display_name": "ArcGISPro",
   "language": "Python",
   "name": "python3"
  },
  "language_info": {
   "file_extension": ".py",
   "name": "python",
   "version": "3"
  },
  "vscode": {
   "interpreter": {
    "hash": "def8e632b3bf617b9a70480f352dd1a48ccae5bc3982940c0141c66988093451"
   }
  }
 },
 "nbformat": 4,
 "nbformat_minor": 2
}
