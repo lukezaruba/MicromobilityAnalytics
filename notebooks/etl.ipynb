{
 "cells": [
  {
   "attachments": {},
   "cell_type": "markdown",
   "metadata": {},
   "source": [
    "# Micromobility in Minneapolis, MN: Spatiotemporal Prediction of Origins & Destinations\n",
    "\n",
    "## Notebook 1: ETL and Data Wrangling\n",
    "\n",
    "### Luke Zaruba, University of Minnesota - MGIS Program\n",
    "\n",
    "##### March 20, 2023\n",
    "\n",
    "*Micromobility has been a recent interest of transportation planners and urban residents alike. One of the most popular implementations of micromobility in Minneapolis has been through motorized scooters from companies like Lime (Uber), Bird, or Lyft. There are comprehensive datasets available containing trip information for all scooter trips within the City, but using the data for understanding travel patterns and user behaviors has largely remained untouched. The data could have immense value to planners, residents, and other stakeholders, to inform future decision-making and more adequately prepare for how the urban landscape will change to accommodate greater volumes of scooters and other forms of micromobility. My solution is to use the powerful techniques of spatial data science to uncover these patterns and estimate when and where users are traveling **to** and **from**.*\n",
    "\n",
    "In this notebook, we will be demonstrating the extract, transform, and loading (ETL) process which prepares the data for analytics that we will run in another notebook, called *analysis.ipynb*. By the end of the notebook, we will go from two input datasets to having several Space Time Cubes created and ready for analysis."
   ]
  },
  {
   "cell_type": "code",
   "execution_count": 1,
   "metadata": {},
   "outputs": [],
   "source": [
    "# Ignore Warnings\n",
    "import warnings\n",
    "warnings.filterwarnings('ignore')"
   ]
  },
  {
   "cell_type": "code",
   "execution_count": 2,
   "metadata": {},
   "outputs": [],
   "source": [
    "# Import Libraries\n",
    "import arcpy\n",
    "import os"
   ]
  },
  {
   "cell_type": "code",
   "execution_count": 3,
   "metadata": {},
   "outputs": [],
   "source": [
    "# Set Paths\n",
    "working_gdb = r\"C:\\gitFiles\\MicromobilityAnalytics\\MicromobilityAPRX\\MicromobilityAPRX.gdb\"\n",
    "data_path = r\"C:\\gitFiles\\MicromobilityAnalytics\\data\\raw\"\n",
    "\n",
    "# Set as Working Envirnoment\n",
    "arcpy.env.workspace = working_gdb"
   ]
  },
  {
   "attachments": {},
   "cell_type": "markdown",
   "metadata": {},
   "source": [
    "## Loading Data to File Geodatabase\n",
    "\n",
    "First, we need to start by getting the data into a File Geodatabase, which will make the analysis easier (no need for file paths after setting a default workspace!)."
   ]
  },
  {
   "cell_type": "code",
   "execution_count": 4,
   "metadata": {},
   "outputs": [
    {
     "data": {
      "text/html": [
       "<div class='gpresult'><h2>Messages</h2><div id='messages' data-messages='[\"Start Time: Friday, March 17, 2023 8:14:40 PM\",\"Succeeded at Friday, March 17, 2023 8:14:52 PM (Elapsed Time: 12.15 seconds)\"]' data-show='true'><div id = 'default' /></div></div>"
      ],
      "text/plain": [
       "<Result 'C:\\\\gitFiles\\\\MicromobilityAnalytics\\\\MicromobilityAPRX\\\\MicromobilityAPRX.gdb\\\\trips_table'>"
      ]
     },
     "execution_count": 4,
     "metadata": {},
     "output_type": "execute_result"
    }
   ],
   "source": [
    "# Copy Streets to GDB\n",
    "arcpy.conversion.ExportFeatures(\n",
    "    os.path.join(data_path, r\"PW_Street_Centerline\\PW_Street_Centerline.shp\"),\n",
    "    \"streets_line\"\n",
    ")\n",
    "\n",
    "# Copy Trips to GDB\n",
    "arcpy.management.CopyRows(\n",
    "    os.path.join(data_path, \"Motorized_Foot_Scooter_Trips_2021.csv\"),\n",
    "    \"trips_table\"\n",
    ")"
   ]
  },
  {
   "attachments": {},
   "cell_type": "markdown",
   "metadata": {},
   "source": [
    "## Cleaning the Street Centerlines\n",
    "\n",
    "The spatial data in the scooter trips dataset is really just a street centerline ID, for both the origin and destination. So, in order to extract locations for the origins and destinations of the trips, we must first clean and transform the street centerlines dataset to prepare it for a join, which will attach an actual location to each trip's origin and destination."
   ]
  },
  {
   "cell_type": "code",
   "execution_count": 5,
   "metadata": {},
   "outputs": [
    {
     "data": {
      "text/html": [
       "<div class='gpresult'><h2>Messages</h2><div id='messages' data-messages='[\"Start Time: Friday, March 17, 2023 8:14:56 PM\",\"Succeeded at Friday, March 17, 2023 8:15:17 PM (Elapsed Time: 20.37 seconds)\"]' data-show='true'><div id = 'default' /></div></div>"
      ],
      "text/plain": [
       "<Result 'C:\\\\gitFiles\\\\MicromobilityAnalytics\\\\MicromobilityAPRX\\\\MicromobilityAPRX.gdb\\\\streets_line'>"
      ]
     },
     "execution_count": 5,
     "metadata": {},
     "output_type": "execute_result"
    }
   ],
   "source": [
    "# Create List of Fields\n",
    "street_fields = [i.name for i in arcpy.ListFields(\"streets_line\")]\n",
    "\n",
    "# Create List of Fields to Drop\n",
    "drop_street_fields = [i for i in street_fields if i not in (\"GBSID\", \"OBJECTID_1\", \"Shape_Length\", \"Shape\")]\n",
    "\n",
    "# Drop Unnecessary Fields\n",
    "arcpy.management.DeleteField(\n",
    "    os.path.join(working_gdb, \"streets_line\"),\n",
    "    drop_field = drop_street_fields,\n",
    "    method = \"DELETE_FIELDS\"\n",
    ")"
   ]
  },
  {
   "cell_type": "code",
   "execution_count": 6,
   "metadata": {},
   "outputs": [
    {
     "data": {
      "text/html": [
       "<div class='gpresult'><h2>Messages</h2><div id='messages' data-messages='[\"Start Time: Friday, March 17, 2023 8:15:20 PM\",\"Succeeded at Friday, March 17, 2023 8:15:31 PM (Elapsed Time: 10.86 seconds)\"]' data-show='true'><div id = 'default' /></div></div>"
      ],
      "text/plain": [
       "<Result 'C:\\\\gitFiles\\\\MicromobilityAnalytics\\\\MicromobilityAPRX\\\\MicromobilityAPRX.gdb\\\\streets_line'>"
      ]
     },
     "execution_count": 6,
     "metadata": {},
     "output_type": "execute_result"
    }
   ],
   "source": [
    "# Calculate Centroid Coordinates\n",
    "arcpy.management.CalculateGeometryAttributes(\n",
    "    os.path.join(working_gdb, \"streets_line\"),\n",
    "    geometry_property = \"X CENTROID_X;Y CENTROID_Y\",\n",
    "    coordinate_system = arcpy.SpatialReference(4236),\n",
    "    coordinate_format = \"DD\"\n",
    ")"
   ]
  },
  {
   "cell_type": "code",
   "execution_count": 7,
   "metadata": {},
   "outputs": [
    {
     "data": {
      "text/html": [
       "<div class='gpresult'><h2>Messages</h2><div id='messages' data-messages='[\"Start Time: Friday, March 17, 2023 8:15:41 PM\",\"Succeeded at Friday, March 17, 2023 8:15:42 PM (Elapsed Time: 1.53 seconds)\"]' data-show='true'><div id = 'default' /></div></div>"
      ],
      "text/plain": [
       "<Result 'C:\\\\gitFiles\\\\MicromobilityAnalytics\\\\MicromobilityAPRX\\\\MicromobilityAPRX.gdb\\\\street_centroids'>"
      ]
     },
     "execution_count": 7,
     "metadata": {},
     "output_type": "execute_result"
    }
   ],
   "source": [
    "# Create Centroid Point Feature Class\n",
    "arcpy.management.XYTableToPoint(\n",
    "    os.path.join(working_gdb, \"streets_line\"),\n",
    "    os.path.join(working_gdb, \"street_centroids\"),\n",
    "    x_field = \"X\",\n",
    "    y_field = \"Y\",\n",
    "    coordinate_system = arcpy.SpatialReference(4326)\n",
    ")"
   ]
  },
  {
   "attachments": {},
   "cell_type": "markdown",
   "metadata": {},
   "source": [
    "## Cleaning the Scooter Trips\n",
    "\n",
    "Now that the street centerlines have been cleaned and converted to point features, we can start cleaning up the scooter trips dataset. This process will include casting the temporal fields to date types, as well as filtering out records that do not start and end on streets (i.e., they could also potentially end on trails, but the number that do is minimal)."
   ]
  },
  {
   "cell_type": "code",
   "execution_count": 8,
   "metadata": {},
   "outputs": [
    {
     "data": {
      "text/html": [
       "<div class='gpresult'><h2>Messages</h2><div id='messages' data-messages='[\"Start Time: Friday, March 17, 2023 8:15:47 PM\",\"Adding StartTime_Converted to trips_table...\",\"Succeeded at Friday, March 17, 2023 8:16:15 PM (Elapsed Time: 28.05 seconds)\"]' data-show='true'><div id = 'default' /></div></div>"
      ],
      "text/plain": [
       "<Result 'trips_table'>"
      ]
     },
     "execution_count": 8,
     "metadata": {},
     "output_type": "execute_result"
    }
   ],
   "source": [
    "# Alter Start Time Field\n",
    "arcpy.management.ConvertTimeField(\n",
    "    \"trips_table\",\n",
    "    input_time_field = \"StartTime\",\n",
    "    input_time_format = \"yyyy/MM/dd HH:mm:ss+00\",\n",
    "    output_time_field = \"StartTime_Converted\",\n",
    "    output_time_type = \"DATE\"\n",
    ")"
   ]
  },
  {
   "cell_type": "code",
   "execution_count": 9,
   "metadata": {},
   "outputs": [
    {
     "data": {
      "text/html": [
       "<div class='gpresult'><h2>Messages</h2><div id='messages' data-messages='[\"Start Time: Friday, March 17, 2023 8:16:17 PM\",\"Adding EndTime_Converted to trips_table...\",\"Succeeded at Friday, March 17, 2023 8:16:43 PM (Elapsed Time: 26.09 seconds)\"]' data-show='true'><div id = 'default' /></div></div>"
      ],
      "text/plain": [
       "<Result 'trips_table'>"
      ]
     },
     "execution_count": 9,
     "metadata": {},
     "output_type": "execute_result"
    }
   ],
   "source": [
    "# Alter End Time Field\n",
    "arcpy.management.ConvertTimeField(\n",
    "    \"trips_table\",\n",
    "    input_time_field = \"EndTime\",\n",
    "    input_time_format = \"yyyy/MM/dd HH:mm:ss+00\",\n",
    "    output_time_field = \"EndTime_Converted\",\n",
    "    output_time_type = \"DATE\"\n",
    ")"
   ]
  },
  {
   "cell_type": "code",
   "execution_count": 10,
   "metadata": {},
   "outputs": [
    {
     "data": {
      "text/html": [
       "<div class='gpresult'><h2>Messages</h2><div id='messages' data-messages='[\"Start Time: Friday, March 17, 2023 8:16:47 PM\",\"Succeeded at Friday, March 17, 2023 8:16:56 PM (Elapsed Time: 9.46 seconds)\"]' data-show='true'><div id = 'default' /></div></div>"
      ],
      "text/plain": [
       "<Result 'C:\\\\gitFiles\\\\MicromobilityAnalytics\\\\MicromobilityAPRX\\\\MicromobilityAPRX.gdb\\\\trips_table_cleaned'>"
      ]
     },
     "execution_count": 10,
     "metadata": {},
     "output_type": "execute_result"
    }
   ],
   "source": [
    "# Restrict to Trips that Start & End on Streets\n",
    "arcpy.conversion.ExportTable(\n",
    "    os.path.join(working_gdb, \"trips_table\"),\n",
    "    os.path.join(working_gdb, \"trips_table_cleaned\"),\n",
    "    where_clause = \"StartCenterlineType = 'street' AND EndCenterlineType = 'street'\"\n",
    ")"
   ]
  },
  {
   "attachments": {},
   "cell_type": "markdown",
   "metadata": {},
   "source": [
    "## Joining Scooter Trips to Streets\n",
    "\n",
    "Finally, we can join the spatial components of the street centerlines dataset to the trips dataset. We need to do it **twice** so that we have a table representing origins, and another representing destinations.\n",
    "\n",
    "In this workflow, rather than using a standard join, we are making use of the [Join Features](https://pro.arcgis.com/en/pro-app/latest/tool-reference/geoanalytics-desktop/join-features.htm) tool in the GeoAnalytics Desktop toolbox. This tool works a little differently than a standard join because it is specifically intended to be used on big data and can run faster than standard joins, by making use of Apache Spark, a data processing engine which is built for working with big data."
   ]
  },
  {
   "cell_type": "code",
   "execution_count": 11,
   "metadata": {},
   "outputs": [
    {
     "data": {
      "text/html": [
       "<div class='gpresult'><h2>Messages</h2><div id='messages' data-messages='[\"Start Time: Friday, March 17, 2023 8:17:02 PM\",\"Started Spark Job 1 with 24 tasks.\",\"Spark Job 1 completed in 4.6 seconds.\",\"\",\"Succeeded at Friday, March 17, 2023 8:17:29 PM (Elapsed Time: 27.31 seconds)\"]' data-show='true'><div id = 'default' /></div></div>"
      ],
      "text/plain": [
       "<Result 'C:\\\\gitFiles\\\\MicromobilityAnalytics\\\\MicromobilityAPRX\\\\MicromobilityAPRX.gdb\\\\origins_table'>"
      ]
     },
     "execution_count": 11,
     "metadata": {},
     "output_type": "execute_result"
    }
   ],
   "source": [
    "# Join by Origin ID\n",
    "arcpy.gapro.JoinFeatures(\n",
    "    os.path.join(working_gdb, \"trips_table\"),\n",
    "    os.path.join(working_gdb, \"street_centroids\"),\n",
    "    os.path.join(working_gdb, \"origins_table\"),\n",
    "    join_operation = \"JOIN_ONE_TO_MANY\",\n",
    "    attribute_relationship=\"StartCenterlineID GBSID\"\n",
    ")"
   ]
  },
  {
   "cell_type": "code",
   "execution_count": 12,
   "metadata": {},
   "outputs": [
    {
     "data": {
      "text/html": [
       "<div class='gpresult'><h2>Messages</h2><div id='messages' data-messages='[\"Start Time: Friday, March 17, 2023 8:17:39 PM\",\"Started Spark Job 1 with 24 tasks.\",\"Spark Job 1 completed in 2.7 seconds.\",\"\",\"Succeeded at Friday, March 17, 2023 8:17:51 PM (Elapsed Time: 11.26 seconds)\"]' data-show='true'><div id = 'default' /></div></div>"
      ],
      "text/plain": [
       "<Result 'C:\\\\gitFiles\\\\MicromobilityAnalytics\\\\MicromobilityAPRX\\\\MicromobilityAPRX.gdb\\\\destinations_table'>"
      ]
     },
     "execution_count": 12,
     "metadata": {},
     "output_type": "execute_result"
    }
   ],
   "source": [
    "# Join by Destination ID\n",
    "arcpy.gapro.JoinFeatures(\n",
    "    os.path.join(working_gdb, \"trips_table\"),\n",
    "    os.path.join(working_gdb, \"street_centroids\"),\n",
    "    os.path.join(working_gdb, \"destinations_table\"),\n",
    "    join_operation = \"JOIN_ONE_TO_MANY\",\n",
    "    attribute_relationship=\"EndCenterlineID GBSID\"\n",
    ")"
   ]
  },
  {
   "attachments": {},
   "cell_type": "markdown",
   "metadata": {},
   "source": [
    "## Convert Scooter Trips to Feature Classes\n",
    "\n",
    "Now that we have two tables with all of our trip data, we simply need to convert the tables to feature classes. This is an easy process since the latitude and longitude have now been joined to the trips dataset."
   ]
  },
  {
   "cell_type": "code",
   "execution_count": 13,
   "metadata": {},
   "outputs": [
    {
     "data": {
      "text/html": [
       "<div class='gpresult'><h2>Messages</h2><div id='messages' data-messages='[\"Start Time: Friday, March 17, 2023 8:18:24 PM\",\"Succeeded at Friday, March 17, 2023 8:18:39 PM (Elapsed Time: 14.83 seconds)\"]' data-show='true'><div id = 'default' /></div></div>"
      ],
      "text/plain": [
       "<Result 'C:\\\\gitFiles\\\\MicromobilityAnalytics\\\\MicromobilityAPRX\\\\MicromobilityAPRX.gdb\\\\destinations_points'>"
      ]
     },
     "execution_count": 13,
     "metadata": {},
     "output_type": "execute_result"
    }
   ],
   "source": [
    "# Convert Origins to Feature Class\n",
    "arcpy.management.XYTableToPoint(\n",
    "    os.path.join(working_gdb, \"origins_table\"),\n",
    "    os.path.join(working_gdb, \"origins_points\"),\n",
    "    x_field = \"X\",\n",
    "    y_field = \"Y\",\n",
    "    coordinate_system = arcpy.SpatialReference(4326)\n",
    ")\n",
    "\n",
    "# Convert Destinations to Feature Class\n",
    "arcpy.management.XYTableToPoint(\n",
    "    os.path.join(working_gdb, \"destinations_table\"),\n",
    "    os.path.join(working_gdb, \"destinations_points\"),\n",
    "    x_field = \"X\",\n",
    "    y_field = \"Y\",\n",
    "    coordinate_system = arcpy.SpatialReference(4326)\n",
    ")"
   ]
  },
  {
   "attachments": {},
   "cell_type": "markdown",
   "metadata": {},
   "source": [
    "## Creating Space Time Cubes\n",
    "\n",
    "In order to run spatiotemporal analytics, the easiest way is to make use of Space Time Cubes (STCs). Space Time Cubes are NetCDF files that are specifically built for processing, analyzing, and visualizing spatiotemporal data.\n",
    "\n",
    "We can create a space time cube from point fetaures by specifying how features should be placed into space-time bins. But first, we need to project the points to a project coordinate system.\n",
    "\n",
    "After reprojecting the data, four STCs are created, at two different time steps (half-hour and daily) for both the origins and the destinations."
   ]
  },
  {
   "cell_type": "code",
   "execution_count": 14,
   "metadata": {},
   "outputs": [
    {
     "data": {
      "text/html": [
       "<div class='gpresult'><h2>Messages</h2><div id='messages' data-messages='[\"Start Time: Friday, March 17, 2023 8:19:22 PM\",\"Succeeded at Friday, March 17, 2023 8:19:34 PM (Elapsed Time: 12.56 seconds)\"]' data-show='true'><div id = 'default' /></div></div>"
      ],
      "text/plain": [
       "<Result 'C:\\\\gitFiles\\\\MicromobilityAnalytics\\\\MicromobilityAPRX\\\\MicromobilityAPRX.gdb\\\\destinations_points_utm15'>"
      ]
     },
     "execution_count": 14,
     "metadata": {},
     "output_type": "execute_result"
    }
   ],
   "source": [
    "# Project to PCS for STC to Work Properly\n",
    "arcpy.management.Project(\n",
    "    \"origins_points\",\n",
    "    os.path.join(working_gdb, \"origins_points_utm15\"),\n",
    "    out_coor_system = arcpy.SpatialReference(26915),\n",
    "    transform_method =\"WGS_1984_(ITRF00)_To_NAD_1983\",\n",
    "    in_coor_system = arcpy.SpatialReference(4326)\n",
    ")\n",
    "\n",
    "arcpy.management.Project(\n",
    "    \"destinations_points\",\n",
    "    os.path.join(working_gdb, \"destinations_points_utm15\"),\n",
    "    out_coor_system = arcpy.SpatialReference(26915),\n",
    "    transform_method =\"WGS_1984_(ITRF00)_To_NAD_1983\",\n",
    "    in_coor_system = arcpy.SpatialReference(4326)\n",
    ")"
   ]
  },
  {
   "cell_type": "code",
   "execution_count": 15,
   "metadata": {
    "scrolled": true
   },
   "outputs": [
    {
     "data": {
      "text/html": [
       "<div class='gpresult'><h2>Messages</h2><div id='messages' data-messages='[\"Start Time: Friday, March 17, 2023 8:19:36 PM\",\"WARNING 110035: The default Distance Interval is 179 meters.\",{\"element\":\"content\",\"data\":\"The space time cube has aggregated 330344 points into 6666 hexagon grid locations over 10565 time step intervals.  Each location has a height of 179 meters, a width of 206.69 meters, sides of 103.35 meters, and an area of 27748.32 square meters.  The entire space time cube spans an area 10282.9 meters west to east and 18079 meters north to south.  Each of the time step intervals is 30 minutes in duration so the entire time period covered by the space time cube is 316950 minutes.  Of the 6666 total locations, 3005 (45.08%) contain at least one point for at least one time step interval.  These 3005 locations comprise 31747825 space time bins of which 244234 (0.77%) have point counts greater than zero.  There is a statistically significant decrease in point counts over time.\"},[{\"element\":\"table\",\"data\":[[{\"data\":\"Input feature time extent\",\"prop\":{\"rowspan\":2}},\"2021-04-29 15:59:59\"],[{\"data\":\"to 2021-12-05 18:00:00\",\"prop\":{\"text-align\":\"right\"}}],[\"\",\"\"],[\"Number of time steps\",\"10565\"],[\"Time step interval\",\"30 minutes\"],[\"Time step alignment\",\"End\"],[\"\",\"\"],[\"First time step temporal bias\",\"99.94%\"],[{\"data\":\"First time step interval\",\"prop\":{\"rowspan\":4}},\"after\"],[{\"data\":\"2021-04-29 15:30:00\",\"prop\":{\"text-align\":\"right\"}}],[{\"data\":\"to on or before\",\"prop\":{\"text-align\":\"right\"}}],[{\"data\":\"2021-04-29 16:00:00\",\"prop\":{\"text-align\":\"right\"}}],[\"\",\"\"],[\"Last time step temporal bias\",\"0.00%\"],[{\"data\":\"Last time step interval\",\"prop\":{\"rowspan\":4}},\"after\"],[{\"data\":\"2021-12-05 17:30:00\",\"prop\":{\"text-align\":\"right\"}}],[{\"data\":\"to on or before\",\"prop\":{\"text-align\":\"right\"}}],[{\"data\":\"2021-12-05 18:00:00\",\"prop\":{\"text-align\":\"right\"}}],[\"\",\"\"],[\"Coordinate System\",\"NAD 1983 UTM Zone 15N\"],[\"Cube extent across space\",\"(coordinates in meters)\"],[\"Min X\",\"473927.9173\"],[\"Min Y\",\"4970682.1192\"],[\"Max X\",\"484210.8143\"],[\"Max Y\",\"4988850.6192\"],[\"Rows\",\"101\"],[\"Columns\",\"66\"],[\"Total bins\",\"70426290\"]],\"elementProps\":{\"striped\":\"true\",\"noHeader\":true,\"title\":\"Space Time Cube Characteristics\",\"0\":{\"align\":\"left\",\"pad\":\"0px\",\"wrap\":true},\"1\":{\"align\":\"right\",\"pad\":\"0px\",\"wrap\":true}}}],[{\"element\":\"table\",\"data\":[[{\"data\":\"Total number of locations\",\"prop\":{\"font-weight\":\"bold\"}},\"   6666\"],[{\"data\":\"Locations with at least one point\",\"prop\":{\"font-weight\":\"bold\"}},\"   3005\"],[{\"data\":\"- associated bins\",\"prop\":{\"font-weight\":\"bold\"}},\"31747825\"],[{\"data\":\"- % non-zero (sparseness)\",\"prop\":{\"font-weight\":\"bold\"}},\"   0.77\"]],\"elementProps\":{\"striped\":\"true\",\"title\":\"COUNT\",\"0\":{\"align\":\"left\",\"pad\":\"0px\",\"wrap\":true},\"1\":{\"align\":\"right\",\"pad\":\"0px\",\"wrap\":true},\"2\":{\"align\":\"left\",\"pad\":\"0px\",\"wrap\":true},\"3\":{\"align\":\"right\",\"pad\":\"0px\",\"wrap\":true}}}],[{\"element\":\"table\",\"data\":[[\"Trend direction\",\"     Decreasing\"],[\"Trend statistic\",\"-17.7020\"],[\"Trend p-value\",\"0.0000\"]],\"elementProps\":{\"striped\":\"true\",\"noHeader\":true,\"title\":\"Overall Data Trend - COUNT\",\"0\":{\"align\":\"left\",\"pad\":\"0px\",\"wrap\":true},\"1\":{\"align\":\"right\",\"pad\":\"0px\",\"wrap\":true}}}],\"Succeeded at Friday, March 17, 2023 8:24:28 PM (Elapsed Time: 4 minutes 52 seconds)\"]' data-show='true'><div id = 'default' /></div></div>"
      ],
      "text/plain": [
       "<Result 'C:\\\\gitFiles\\\\MicromobilityAnalytics\\\\data\\\\outputs\\\\origins_stc.nc'>"
      ]
     },
     "execution_count": 15,
     "metadata": {},
     "output_type": "execute_result"
    }
   ],
   "source": [
    "# Create Origin STCs (0.5-hour increment)\n",
    "arcpy.stpm.CreateSpaceTimeCube(\n",
    "    in_features = \"origins_points_utm15\",\n",
    "    output_cube = r\"C:\\gitFiles\\MicromobilityAnalytics\\data\\outputs\\origins_stc.nc\",\n",
    "    time_field = \"StartTime_Converted\",\n",
    "    time_step_interval = \"30 Minutes\",\n",
    "    time_step_alignment = \"END_TIME\",\n",
    "    aggregation_shape_type=\"HEXAGON_GRID\"\n",
    ")\n",
    "\n",
    "# Create Destination STCs (0.5-hour increment)\n",
    "arcpy.stpm.CreateSpaceTimeCube(\n",
    "    in_features = \"destinations_points_utm15\",\n",
    "    output_cube = r\"C:\\gitFiles\\MicromobilityAnalytics\\data\\outputs\\destinations_stc.nc\",\n",
    "    time_field = \"EndTime_Converted\",\n",
    "    time_step_interval = \"30 Minutes\",\n",
    "    time_step_alignment = \"END_TIME\",\n",
    "    aggregation_shape_type=\"HEXAGON_GRID\"\n",
    ")"
   ]
  },
  {
   "cell_type": "code",
   "execution_count": 16,
   "metadata": {},
   "outputs": [
    {
     "data": {
      "text/html": [
       "<div class='gpresult'><h2>Messages</h2><div id='messages' data-messages='[\"Start Time: Sunday, March 19, 2023 6:29:26 PM\",\"WARNING 110035: The default Distance Interval is 179 meters.\",{\"element\":\"content\",\"data\":\"The space time cube has aggregated 337447 points into 6666 hexagon grid locations over 221 time step intervals.  Each location has a height of 179 meters, a width of 206.69 meters, sides of 103.35 meters, and an area of 27748.32 square meters.  The entire space time cube spans an area 10282.9 meters west to east and 18079 meters north to south.  Each of the time step intervals is 1 day in duration so the entire time period covered by the space time cube is 221 days.  Of the 6666 total locations, 3450 (51.76%) contain at least one point for at least one time step interval.  These 3450 locations comprise 762450 space time bins of which 105982 (13.90%) have point counts greater than zero.  There is a statistically significant decrease in point counts over time.\"},[{\"element\":\"table\",\"data\":[[{\"data\":\"Input feature time extent\",\"prop\":{\"rowspan\":2}},\"2021-04-29 15:59:59\"],[{\"data\":\"to 2021-12-05 18:00:00\",\"prop\":{\"text-align\":\"right\"}}],[\"\",\"\"],[\"Number of time steps\",\"221\"],[\"Time step interval\",\"1 day\"],[\"Time step alignment\",\"End\"],[\"\",\"\"],[\"First time step temporal bias\",\"91.67%\"],[{\"data\":\"First time step interval\",\"prop\":{\"rowspan\":4}},\"after\"],[{\"data\":\"2021-04-28 18:00:00\",\"prop\":{\"text-align\":\"right\"}}],[{\"data\":\"to on or before\",\"prop\":{\"text-align\":\"right\"}}],[{\"data\":\"2021-04-29 18:00:00\",\"prop\":{\"text-align\":\"right\"}}],[\"\",\"\"],[\"Last time step temporal bias\",\"0.00%\"],[{\"data\":\"Last time step interval\",\"prop\":{\"rowspan\":4}},\"after\"],[{\"data\":\"2021-12-04 18:00:00\",\"prop\":{\"text-align\":\"right\"}}],[{\"data\":\"to on or before\",\"prop\":{\"text-align\":\"right\"}}],[{\"data\":\"2021-12-05 18:00:00\",\"prop\":{\"text-align\":\"right\"}}],[\"\",\"\"],[\"Coordinate System\",\"NAD 1983 UTM Zone 15N\"],[\"Cube extent across space\",\"(coordinates in meters)\"],[\"Min X\",\"473927.0605\"],[\"Min Y\",\"4970669.7921\"],[\"Max X\",\"484209.9574\"],[\"Max Y\",\"4988838.2921\"],[\"Rows\",\"101\"],[\"Columns\",\"66\"],[\"Total bins\",\"1473186\"]],\"elementProps\":{\"striped\":\"true\",\"noHeader\":true,\"title\":\"Space Time Cube Characteristics\",\"0\":{\"align\":\"left\",\"pad\":\"0px\",\"wrap\":true},\"1\":{\"align\":\"right\",\"pad\":\"0px\",\"wrap\":true}}}],[{\"element\":\"table\",\"data\":[[{\"data\":\"Total number of locations\",\"prop\":{\"font-weight\":\"bold\"}},\"   6666\"],[{\"data\":\"Locations with at least one point\",\"prop\":{\"font-weight\":\"bold\"}},\"   3450\"],[{\"data\":\"- associated bins\",\"prop\":{\"font-weight\":\"bold\"}},\" 762450\"],[{\"data\":\"- % non-zero (sparseness)\",\"prop\":{\"font-weight\":\"bold\"}},\"  13.90\"]],\"elementProps\":{\"striped\":\"true\",\"title\":\"COUNT\",\"0\":{\"align\":\"left\",\"pad\":\"0px\",\"wrap\":true},\"1\":{\"align\":\"right\",\"pad\":\"0px\",\"wrap\":true},\"2\":{\"align\":\"left\",\"pad\":\"0px\",\"wrap\":true},\"3\":{\"align\":\"right\",\"pad\":\"0px\",\"wrap\":true}}}],[{\"element\":\"table\",\"data\":[[\"Trend direction\",\"     Decreasing\"],[\"Trend statistic\",\"-3.7268\"],[\"Trend p-value\",\"0.0002\"]],\"elementProps\":{\"striped\":\"true\",\"noHeader\":true,\"title\":\"Overall Data Trend - COUNT\",\"0\":{\"align\":\"left\",\"pad\":\"0px\",\"wrap\":true},\"1\":{\"align\":\"right\",\"pad\":\"0px\",\"wrap\":true}}}],\"Succeeded at Sunday, March 19, 2023 6:29:33 PM (Elapsed Time: 6.40 seconds)\"]' data-show='true'><div id = 'default' /></div></div>"
      ],
      "text/plain": [
       "<Result 'C:\\\\gitFiles\\\\MicromobilityAnalytics\\\\data\\\\outputs\\\\destinations_daily_stc.nc'>"
      ]
     },
     "execution_count": 16,
     "metadata": {},
     "output_type": "execute_result"
    }
   ],
   "source": [
    "# Create Origin STCs (daily increment)\n",
    "arcpy.stpm.CreateSpaceTimeCube(\n",
    "    in_features = \"origins_points_utm15\",\n",
    "    output_cube = r\"C:\\gitFiles\\MicromobilityAnalytics\\data\\outputs\\originsDaily_stc.nc\",\n",
    "    time_field = \"StartTime_Converted\",\n",
    "    time_step_interval = \"1 Day\",\n",
    "    time_step_alignment = \"END_TIME\",\n",
    "    aggregation_shape_type=\"HEXAGON_GRID\"\n",
    ")\n",
    "\n",
    "# Create Destination STCs (daily increment)\n",
    "arcpy.stpm.CreateSpaceTimeCube(\n",
    "    in_features = \"destinations_points_utm15\",\n",
    "    output_cube = r\"C:\\gitFiles\\MicromobilityAnalytics\\data\\outputs\\destinationsDaily_stc.nc\",\n",
    "    time_field = \"EndTime_Converted\",\n",
    "    time_step_interval = \"1 Day\",\n",
    "    time_step_alignment = \"END_TIME\",\n",
    "    aggregation_shape_type=\"HEXAGON_GRID\"\n",
    ")"
   ]
  },
  {
   "attachments": {},
   "cell_type": "markdown",
   "metadata": {},
   "source": [
    "## Time for Analysis!\n",
    "\n",
    "Now that our ETL process is complete, we can make use of spatiotemporal analytical techniques to uncover more knowledge from the data."
   ]
  }
 ],
 "metadata": {
  "kernelspec": {
   "display_name": "ArcGISPro",
   "language": "Python",
   "name": "python3"
  },
  "language_info": {
   "file_extension": ".py",
   "name": "python",
   "version": "3.9.16"
  },
  "vscode": {
   "interpreter": {
    "hash": "5d5008064d70deb9b074998b68a0cc4079d2424b9a7321ae50108855b8fb89a4"
   }
  }
 },
 "nbformat": 4,
 "nbformat_minor": 2
}
